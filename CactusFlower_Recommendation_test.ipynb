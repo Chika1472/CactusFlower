{
  "cells": [
    {
      "cell_type": "markdown",
      "metadata": {
        "id": "view-in-github",
        "colab_type": "text"
      },
      "source": [
        "<a href=\"https://colab.research.google.com/github/Chika1472/CactusFlower/blob/main/CactusFlower_Recommendation_test.ipynb\" target=\"_parent\"><img src=\"https://colab.research.google.com/assets/colab-badge.svg\" alt=\"Open In Colab\"/></a>"
      ]
    },
    {
      "cell_type": "markdown",
      "metadata": {
        "id": "7GQg20i7vjWJ"
      },
      "source": [
        "## **추천 시스템 테스트**"
      ]
    },
    {
      "cell_type": "markdown",
      "metadata": {
        "id": "M8q0et2NvjWK"
      },
      "source": [
        "### **테스트 개요**"
      ]
    },
    {
      "cell_type": "markdown",
      "metadata": {
        "id": "_kJADpAGvjWK"
      },
      "source": [
        "본 시험은 텍스트 데이터를 활용해 머신러닝 및 딥러닝 모델을 설계하고 성능을 분석하는 것을 목표로 합니다. 이를 통해 텍스트 데이터의 특성을 이해하고, 데이터 탐색, 전처리, 모델 구현 및 성능 평가를 포함한 머신러닝/딥러닝 프로젝트의 전체 과정을 경험하게 됩니다. 시험의 주요 목적은 리뷰 데이터를 기반으로 유용성 예측 문제를 정의하고, 텍스트 데이터를 활용해 다양한 모델을 구현하여 분석 및 비교하는 능력을 평가하는 것입니다. 실험 환경은 Python과 주요 라이브러리(Numpy, Pandas, Scikit-learn, TensorFlow/Keras 등)를 활용하여도 됩니다."
      ]
    },
    {
      "cell_type": "markdown",
      "metadata": {
        "id": "0B6PcUN3vjWK"
      },
      "source": [
        "### **데이터 설명**"
      ]
    },
    {
      "cell_type": "markdown",
      "metadata": {
        "id": "DuXkpkH9vjWL"
      },
      "source": [
        "실험 환경을 고려하여 아마존 리뷰 데이터셋(https://amazon-reviews-2023.github.io/) 중 Health and personal care를 선택하시기 바랍니다. 선택한 데이터는 다음 두 가지 주요 컬럼으로 사용합니다.\n",
        "\n",
        "1. 리뷰 본문(text)\n",
        "    * 각 리뷰의 내용을 담고 있는 텍스트 데이터로, 예측 모델의 주요 특징(feature)으로 사용됩니다.\n",
        "\n",
        "2. 유용성 투표 수(helpful_votes)\n",
        "    * 리뷰가 유용한지 여부를 나타내는 숫자 값입니다."
      ]
    },
    {
      "cell_type": "markdown",
      "metadata": {
        "id": "texDfTuovjWL"
      },
      "source": [
        "## 문제 1: 데이터 탐색 및 전처리 (25점)"
      ]
    },
    {
      "cell_type": "markdown",
      "metadata": {
        "id": "glYnxOEavjWL"
      },
      "source": [
        "### 1.1 데이터 탐색 (15점)\n",
        "\n",
        "리뷰 데이터를 탐색하고 다음 작업을 수행하시오."
      ]
    },
    {
      "cell_type": "markdown",
      "metadata": {
        "id": "V5RV_pqRvjWL"
      },
      "source": [
        "1. 리뷰의 유용성 투표 수(vote)를 기준으로 새로운 레이블을 생성하고, 레이블의 분포를 확인하시오.\n",
        "    * helpful_votes > 0: 1 (유용한 리뷰)\n",
        "    * helpful_votes = 0 또는 NaN: 0 (유용하지 않은 리뷰)"
      ]
    },
    {
      "cell_type": "markdown",
      "metadata": {
        "id": "pmiTZuTSvjWL"
      },
      "source": [
        "2. 리뷰 텍스트 길이의 분포를 확인하고, 평균, 최솟값, 최댓값 등 주요 통계량을 제시하시오."
      ]
    },
    {
      "cell_type": "markdown",
      "metadata": {
        "id": "mRb6_g5QvjWL"
      },
      "source": [
        "3. 데이터 불균형 문제를 해결하기 위해 유용한 리뷰 수 기준으로 데이터를 샘플링 하시오."
      ]
    },
    {
      "cell_type": "markdown",
      "metadata": {
        "id": "rzaAiL8lvjWM"
      },
      "source": [
        "4. 필터링된 데이터를 기준으로 학습 데이터와 테스트 데이터를 나누고 random_state=123으로 지정하시오.\n",
        "※ 나눠진 학습 데이터와 테스트 데이터를 아래 실험에서 동일하게 사용하시오."
      ]
    },
    {
      "cell_type": "markdown",
      "metadata": {
        "id": "-jEi_MyCvjWM"
      },
      "source": [
        "### 1.2 텍스트 전처리 (10점)"
      ]
    },
    {
      "cell_type": "markdown",
      "metadata": {
        "id": "UYCSMgA_vjWM"
      },
      "source": [
        "1. 리뷰 본문 데이터를 다음 과정을 포함하여 전처리하시오.\n",
        "    * 소문자 변환, 특수문자 제거 등\n",
        "    * 불용어 제거\n",
        "    * 어간 추출(Stemming)과 표제어 추출(Lemmatization) 중 하나를 선택하여 적용하고 선택 근거를 서술하시오."
      ]
    },
    {
      "cell_type": "markdown",
      "metadata": {
        "id": "msluZHmivjWM"
      },
      "source": [
        "2. 전처리된 텍스트 데이터를 확인하고 몇 개의 예시를 포함하여 설명하시오."
      ]
    },
    {
      "cell_type": "markdown",
      "metadata": {
        "id": "W-x0JyjivjWM"
      },
      "source": [
        "## 문제 2: 머신러닝 기반 리뷰 유용성 예측 (30점)"
      ]
    },
    {
      "cell_type": "markdown",
      "metadata": {
        "id": "kp9qLvG8vjWM"
      },
      "source": [
        "### 2.1 TF-IDF 기반 특징 추출 (10점)"
      ]
    },
    {
      "cell_type": "markdown",
      "metadata": {
        "id": "-L6vs0mDvjWM"
      },
      "source": [
        "* 전처리된 리뷰 본문 데이터를 활용해 TF-IDF를 계산하시오.\n",
        "* TF-IDF 상위 20개 단어를 시각화하거나 해석하고, 모델 학습에 적합한 데이터로 변환하시오."
      ]
    },
    {
      "cell_type": "markdown",
      "metadata": {
        "id": "tK6JLcQDvjWM"
      },
      "source": [
        "### 2.2 머신러닝 모델 구축 (15점)"
      ]
    },
    {
      "cell_type": "markdown",
      "metadata": {
        "id": "zZIQNmv8vjWM"
      },
      "source": [
        "* TF-IDF 데이터를 이용해 리뷰 유용성을 예측하는 분류 모델을 구현하시오.\n",
        "* 최소 2가지 머신러닝 알고리즘(예: Logistic Regression, Random Forest)을 사용하고 성능을 Precision, Recall, F1-Score 기준으로 평가하시오."
      ]
    },
    {
      "cell_type": "markdown",
      "metadata": {
        "id": "bO04QM5gvjWM"
      },
      "source": [
        "## 문제 3: CNN 기반 리뷰 유용성 예측 (40점)"
      ]
    },
    {
      "cell_type": "markdown",
      "metadata": {
        "id": "GEIc8604vjWM"
      },
      "source": [
        "### 3.1 임베딩 실험 (15점)"
      ]
    },
    {
      "cell_type": "markdown",
      "metadata": {
        "id": "OyFhDUsMvjWM"
      },
      "source": [
        "* 사전 학습된 워드 임베딩 모델(예: Word2Vec, GloVe)을 선택하고 이유를 서술하시오.\n",
        "* 리뷰 길이에 따른 적절한 패딩 길이를 설정하고, 선택한 기준(예: 최대 길이, 평균 길이)을 설명하시오.\n",
        "* 임베딩 차원을 [50, 100, 200]으로 변경하며 성능 변화를 실험하고, 최적의 임베딩 차원을 도출하시오.\n",
        "* 사전 학습된 임베딩과 랜덤 초기화 임베딩(예: Keras 임베딩)을 비교하고 성능 차이를 분석하시오."
      ]
    },
    {
      "cell_type": "markdown",
      "metadata": {
        "id": "ChZWKtIuvjWM"
      },
      "source": [
        "### 3.2 CNN 구조 실험 (15점)"
      ]
    },
    {
      "cell_type": "markdown",
      "metadata": {
        "id": "xJdC3d6evjWM"
      },
      "source": [
        "* 필터 크기를 [2, 3, 5]로, 필터 개수를 [32, 64, 128]로 변경하며 성능 변화를 실험하시오.\n",
        "* 리뷰 길이에 따른 최적 필터 크기를 도출하고 선택 근거를 서술하시오.\n",
        "* Max Pooling과 Average Pooling 전략을 적용하여 모델 성능을 비교하고 각 전략의 장단점을 서술하시오."
      ]
    },
    {
      "cell_type": "markdown",
      "metadata": {
        "id": "ND_zY5DFvjWM"
      },
      "source": [
        "### 3.3 추가 분석 (10점)"
      ]
    },
    {
      "cell_type": "markdown",
      "metadata": {
        "id": "XDOzMsNPvjWM"
      },
      "source": [
        "* 리뷰 길이에 따른 예측 성능 차이를 분석하시오(예: 짧은 리뷰 vs 긴 리뷰)."
      ]
    },
    {
      "cell_type": "markdown",
      "metadata": {
        "id": "G-3Zliy4vjWM"
      },
      "source": [
        "## 문제 4: 모델 비교 및 결론 (20점)"
      ]
    },
    {
      "cell_type": "markdown",
      "metadata": {
        "id": "XEo1wl1bvjWM"
      },
      "source": [
        "### 4.1 모델 비교 분석 (10점)"
      ]
    },
    {
      "cell_type": "markdown",
      "metadata": {
        "id": "_nPH_xvevjWN"
      },
      "source": [
        "* TF-IDF 기반 모델과 CNN 기반 모델의 성능을 비교하시오."
      ]
    },
    {
      "cell_type": "markdown",
      "metadata": {
        "id": "8BeS93XpvjWN"
      },
      "source": [
        "### 4.2 결론 및 제언 (10점)"
      ]
    },
    {
      "cell_type": "markdown",
      "metadata": {
        "id": "n9LF2ZglvjWN"
      },
      "source": [
        "* 리뷰 텍스트 특성(리뷰 길이)과 유용성의 관계에 대한 통찰을 서술하시오.\n",
        "* 모델 성능 향상을 위한 추가 개선 방향을 제안하시오."
      ]
    }
  ],
  "metadata": {
    "language_info": {
      "name": "python"
    },
    "colab": {
      "provenance": [],
      "gpuType": "T4",
      "include_colab_link": true
    },
    "accelerator": "GPU",
    "kernelspec": {
      "name": "python3",
      "display_name": "Python 3"
    }
  },
  "nbformat": 4,
  "nbformat_minor": 0
}